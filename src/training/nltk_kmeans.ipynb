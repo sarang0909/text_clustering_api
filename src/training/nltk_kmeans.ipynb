{
 "cells": [
  {
   "cell_type": "code",
   "execution_count": 1,
   "metadata": {},
   "outputs": [],
   "source": [
    "import pandas as pd\n",
    "import numpy as np\n",
    "from nltk.cluster import KMeansClusterer\n",
    "import nltk\n",
    "from sentence_transformers import SentenceTransformer"
   ]
  },
  {
   "cell_type": "code",
   "execution_count": 2,
   "metadata": {},
   "outputs": [],
   "source": [
    "data = pd.read_csv('../../data/paragraph_clean_data.csv',dtype={'article_text':'string'})"
   ]
  },
  {
   "cell_type": "code",
   "execution_count": 3,
   "metadata": {},
   "outputs": [
    {
     "name": "stdout",
     "output_type": "stream",
     "text": [
      "<class 'pandas.core.frame.DataFrame'>\n",
      "RangeIndex: 79 entries, 0 to 78\n",
      "Data columns (total 2 columns):\n",
      " #   Column      Non-Null Count  Dtype \n",
      "---  ------      --------------  ----- \n",
      " 0   Unnamed: 0  79 non-null     int64 \n",
      " 1   paragraph   79 non-null     object\n",
      "dtypes: int64(1), object(1)\n",
      "memory usage: 1.4+ KB\n"
     ]
    }
   ],
   "source": [
    "data.info()"
   ]
  },
  {
   "cell_type": "code",
   "execution_count": null,
   "metadata": {},
   "outputs": [],
   "source": []
  },
  {
   "cell_type": "code",
   "execution_count": 4,
   "metadata": {},
   "outputs": [],
   "source": [
    "encoder_model = SentenceTransformer('all-MiniLM-L6-v2')\n",
    "# Utility function for generating sentence embedding from the text\n",
    "def get_embeddinngs(text):\n",
    "    return encoder_model.encode(text)\n"
   ]
  },
  {
   "cell_type": "code",
   "execution_count": 5,
   "metadata": {},
   "outputs": [],
   "source": [
    "\n",
    "# Generating sentence embedding from the text\n",
    "data['embeddings'] = data['paragraph'].apply(get_embeddinngs)"
   ]
  },
  {
   "cell_type": "code",
   "execution_count": 12,
   "metadata": {},
   "outputs": [],
   "source": [
    "X = np.array(data['embeddings'].tolist())"
   ]
  },
  {
   "cell_type": "code",
   "execution_count": 26,
   "metadata": {},
   "outputs": [],
   "source": [
    "\n",
    "\n",
    "def clustering_news(data,NUM_CLUSTERS = 15):\n",
    "\n",
    "    X = np.array(data['embeddings'].tolist())\n",
    "\n",
    "    nltk_cluster_model = KMeansClusterer(\n",
    "        NUM_CLUSTERS, distance=nltk.cluster.util.cosine_distance,\n",
    "        repeats=25,avoid_empty_clusters=True)\n",
    "\n",
    "    assigned_clusters = nltk_cluster_model.cluster(X, assign_clusters=True)\n",
    "\n",
    "    data['cluster'] = pd.Series(assigned_clusters, index=data.index)\n",
    "    data['centroid'] = data['cluster'].apply(lambda x: nltk_cluster_model.means()[x])\n",
    "\n",
    "    return data,nltk_cluster_model\n",
    "\n",
    "\n",
    " "
   ]
  },
  {
   "cell_type": "code",
   "execution_count": 27,
   "metadata": {},
   "outputs": [],
   "source": [
    "clust_data,nltk_cluster_model = clustering_news(data,7)"
   ]
  },
  {
   "cell_type": "code",
   "execution_count": 28,
   "metadata": {},
   "outputs": [
    {
     "data": {
      "text/plain": [
       "pandas.core.frame.DataFrame"
      ]
     },
     "execution_count": 28,
     "metadata": {},
     "output_type": "execute_result"
    }
   ],
   "source": [
    "type(clust_data)"
   ]
  },
  {
   "cell_type": "code",
   "execution_count": 29,
   "metadata": {},
   "outputs": [
    {
     "data": {
      "text/html": [
       "<div>\n",
       "<style scoped>\n",
       "    .dataframe tbody tr th:only-of-type {\n",
       "        vertical-align: middle;\n",
       "    }\n",
       "\n",
       "    .dataframe tbody tr th {\n",
       "        vertical-align: top;\n",
       "    }\n",
       "\n",
       "    .dataframe thead th {\n",
       "        text-align: right;\n",
       "    }\n",
       "</style>\n",
       "<table border=\"1\" class=\"dataframe\">\n",
       "  <thead>\n",
       "    <tr style=\"text-align: right;\">\n",
       "      <th></th>\n",
       "      <th>Unnamed: 0</th>\n",
       "      <th>paragraph</th>\n",
       "      <th>embeddings</th>\n",
       "      <th>cluster</th>\n",
       "      <th>centroid</th>\n",
       "    </tr>\n",
       "  </thead>\n",
       "  <tbody>\n",
       "    <tr>\n",
       "      <th>0</th>\n",
       "      <td>0</td>\n",
       "      <td>The TESLA logo is seen outside a dealership in...</td>\n",
       "      <td>[-0.027433814, 0.014448788, 0.050572325, 0.063...</td>\n",
       "      <td>3</td>\n",
       "      <td>[-0.034090396, -0.0013210782, 0.045484196, 0.0...</td>\n",
       "    </tr>\n",
       "    <tr>\n",
       "      <th>1</th>\n",
       "      <td>1</td>\n",
       "      <td>Business Tesla weighs China sales reset Posted...</td>\n",
       "      <td>[0.0013775178, 0.0052929916, 0.052649338, 0.03...</td>\n",
       "      <td>3</td>\n",
       "      <td>[-0.034090396, -0.0013210782, 0.045484196, 0.0...</td>\n",
       "    </tr>\n",
       "    <tr>\n",
       "      <th>2</th>\n",
       "      <td>2</td>\n",
       "      <td>A Jeep logo is seen on a car at a showroom of ...</td>\n",
       "      <td>[-0.10454293, 0.026172081, 0.005620138, -0.030...</td>\n",
       "      <td>0</td>\n",
       "      <td>[-0.026943447, 0.015383076, 0.028313272, 0.013...</td>\n",
       "    </tr>\n",
       "    <tr>\n",
       "      <th>3</th>\n",
       "      <td>3</td>\n",
       "      <td>Register now for FREE unlimited access to Reut...</td>\n",
       "      <td>[-0.04478642, 0.008372527, 0.050375167, 0.0615...</td>\n",
       "      <td>1</td>\n",
       "      <td>[-0.04939384, 0.016903222, 0.010598234, 0.0331...</td>\n",
       "    </tr>\n",
       "    <tr>\n",
       "      <th>4</th>\n",
       "      <td>4</td>\n",
       "      <td>A view of Tesla Inc is U S vehicle factory in ...</td>\n",
       "      <td>[-0.038692232, 0.09202919, -0.012038713, 0.040...</td>\n",
       "      <td>4</td>\n",
       "      <td>[-0.04657135, 0.057493903, 0.040230125, 0.0185...</td>\n",
       "    </tr>\n",
       "  </tbody>\n",
       "</table>\n",
       "</div>"
      ],
      "text/plain": [
       "   Unnamed: 0                                          paragraph  \\\n",
       "0           0  The TESLA logo is seen outside a dealership in...   \n",
       "1           1  Business Tesla weighs China sales reset Posted...   \n",
       "2           2  A Jeep logo is seen on a car at a showroom of ...   \n",
       "3           3  Register now for FREE unlimited access to Reut...   \n",
       "4           4  A view of Tesla Inc is U S vehicle factory in ...   \n",
       "\n",
       "                                          embeddings  cluster  \\\n",
       "0  [-0.027433814, 0.014448788, 0.050572325, 0.063...        3   \n",
       "1  [0.0013775178, 0.0052929916, 0.052649338, 0.03...        3   \n",
       "2  [-0.10454293, 0.026172081, 0.005620138, -0.030...        0   \n",
       "3  [-0.04478642, 0.008372527, 0.050375167, 0.0615...        1   \n",
       "4  [-0.038692232, 0.09202919, -0.012038713, 0.040...        4   \n",
       "\n",
       "                                            centroid  \n",
       "0  [-0.034090396, -0.0013210782, 0.045484196, 0.0...  \n",
       "1  [-0.034090396, -0.0013210782, 0.045484196, 0.0...  \n",
       "2  [-0.026943447, 0.015383076, 0.028313272, 0.013...  \n",
       "3  [-0.04939384, 0.016903222, 0.010598234, 0.0331...  \n",
       "4  [-0.04657135, 0.057493903, 0.040230125, 0.0185...  "
      ]
     },
     "execution_count": 29,
     "metadata": {},
     "output_type": "execute_result"
    }
   ],
   "source": [
    "clust_data.head()"
   ]
  },
  {
   "cell_type": "code",
   "execution_count": 31,
   "metadata": {},
   "outputs": [
    {
     "data": {
      "text/html": [
       "<div>\n",
       "<style scoped>\n",
       "    .dataframe tbody tr th:only-of-type {\n",
       "        vertical-align: middle;\n",
       "    }\n",
       "\n",
       "    .dataframe tbody tr th {\n",
       "        vertical-align: top;\n",
       "    }\n",
       "\n",
       "    .dataframe thead th {\n",
       "        text-align: right;\n",
       "    }\n",
       "</style>\n",
       "<table border=\"1\" class=\"dataframe\">\n",
       "  <thead>\n",
       "    <tr style=\"text-align: right;\">\n",
       "      <th></th>\n",
       "      <th>Unnamed: 0</th>\n",
       "      <th>paragraph</th>\n",
       "      <th>embeddings</th>\n",
       "      <th>cluster</th>\n",
       "      <th>centroid</th>\n",
       "    </tr>\n",
       "  </thead>\n",
       "  <tbody>\n",
       "    <tr>\n",
       "      <th>4</th>\n",
       "      <td>4</td>\n",
       "      <td>A view of Tesla Inc is U S vehicle factory in ...</td>\n",
       "      <td>[-0.038692232, 0.09202919, -0.012038713, 0.040...</td>\n",
       "      <td>4</td>\n",
       "      <td>[-0.04657135, 0.057493903, 0.040230125, 0.0185...</td>\n",
       "    </tr>\n",
       "    <tr>\n",
       "      <th>6</th>\n",
       "      <td>6</td>\n",
       "      <td>Register now for FREE unlimited access to Reut...</td>\n",
       "      <td>[-0.0505838, 0.06705427, 0.06424659, 0.0210842...</td>\n",
       "      <td>4</td>\n",
       "      <td>[-0.04657135, 0.057493903, 0.040230125, 0.0185...</td>\n",
       "    </tr>\n",
       "    <tr>\n",
       "      <th>7</th>\n",
       "      <td>7</td>\n",
       "      <td>The logo of car manufacturer Tesla is seen at ...</td>\n",
       "      <td>[-0.049751263, 0.041635334, 0.0655589, 0.05343...</td>\n",
       "      <td>4</td>\n",
       "      <td>[-0.04657135, 0.057493903, 0.040230125, 0.0185...</td>\n",
       "    </tr>\n",
       "    <tr>\n",
       "      <th>8</th>\n",
       "      <td>8</td>\n",
       "      <td>A Tesla logo is seen on a wheel rim during the...</td>\n",
       "      <td>[-0.062302493, 0.03082036, 0.046739396, -0.030...</td>\n",
       "      <td>4</td>\n",
       "      <td>[-0.04657135, 0.057493903, 0.040230125, 0.0185...</td>\n",
       "    </tr>\n",
       "    <tr>\n",
       "      <th>9</th>\n",
       "      <td>9</td>\n",
       "      <td>Register now for FREE unlimited access to Reut...</td>\n",
       "      <td>[-0.04074379, 0.002250556, 0.045334995, 0.0202...</td>\n",
       "      <td>4</td>\n",
       "      <td>[-0.04657135, 0.057493903, 0.040230125, 0.0185...</td>\n",
       "    </tr>\n",
       "    <tr>\n",
       "      <th>64</th>\n",
       "      <td>65</td>\n",
       "      <td>Register now for FREE unlimited access to Reut...</td>\n",
       "      <td>[-0.055110168, 0.033948712, 0.019066695, 0.029...</td>\n",
       "      <td>4</td>\n",
       "      <td>[-0.04657135, 0.057493903, 0.040230125, 0.0185...</td>\n",
       "    </tr>\n",
       "    <tr>\n",
       "      <th>65</th>\n",
       "      <td>66</td>\n",
       "      <td>The logo of car manufacturer Tesla is seen at ...</td>\n",
       "      <td>[-0.02881586, 0.1347212, 0.05270187, -0.005016...</td>\n",
       "      <td>4</td>\n",
       "      <td>[-0.04657135, 0.057493903, 0.040230125, 0.0185...</td>\n",
       "    </tr>\n",
       "  </tbody>\n",
       "</table>\n",
       "</div>"
      ],
      "text/plain": [
       "    Unnamed: 0                                          paragraph  \\\n",
       "4            4  A view of Tesla Inc is U S vehicle factory in ...   \n",
       "6            6  Register now for FREE unlimited access to Reut...   \n",
       "7            7  The logo of car manufacturer Tesla is seen at ...   \n",
       "8            8  A Tesla logo is seen on a wheel rim during the...   \n",
       "9            9  Register now for FREE unlimited access to Reut...   \n",
       "64          65  Register now for FREE unlimited access to Reut...   \n",
       "65          66  The logo of car manufacturer Tesla is seen at ...   \n",
       "\n",
       "                                           embeddings  cluster  \\\n",
       "4   [-0.038692232, 0.09202919, -0.012038713, 0.040...        4   \n",
       "6   [-0.0505838, 0.06705427, 0.06424659, 0.0210842...        4   \n",
       "7   [-0.049751263, 0.041635334, 0.0655589, 0.05343...        4   \n",
       "8   [-0.062302493, 0.03082036, 0.046739396, -0.030...        4   \n",
       "9   [-0.04074379, 0.002250556, 0.045334995, 0.0202...        4   \n",
       "64  [-0.055110168, 0.033948712, 0.019066695, 0.029...        4   \n",
       "65  [-0.02881586, 0.1347212, 0.05270187, -0.005016...        4   \n",
       "\n",
       "                                             centroid  \n",
       "4   [-0.04657135, 0.057493903, 0.040230125, 0.0185...  \n",
       "6   [-0.04657135, 0.057493903, 0.040230125, 0.0185...  \n",
       "7   [-0.04657135, 0.057493903, 0.040230125, 0.0185...  \n",
       "8   [-0.04657135, 0.057493903, 0.040230125, 0.0185...  \n",
       "9   [-0.04657135, 0.057493903, 0.040230125, 0.0185...  \n",
       "64  [-0.04657135, 0.057493903, 0.040230125, 0.0185...  \n",
       "65  [-0.04657135, 0.057493903, 0.040230125, 0.0185...  "
      ]
     },
     "execution_count": 31,
     "metadata": {},
     "output_type": "execute_result"
    }
   ],
   "source": [
    "clust_data[clust_data['cluster']==4]"
   ]
  },
  {
   "cell_type": "code",
   "execution_count": 32,
   "metadata": {},
   "outputs": [],
   "source": [
    "import pickle\n",
    "pickle.dump(nltk_cluster_model, open(\"../models/nltk_cluster_model.pkl\", \"wb\"))"
   ]
  },
  {
   "cell_type": "code",
   "execution_count": 34,
   "metadata": {},
   "outputs": [
    {
     "name": "stdout",
     "output_type": "stream",
     "text": [
      "4\n"
     ]
    }
   ],
   "source": [
    "# Inference Code\n",
    "saved_model = pickle.load(open('../models/nltk_cluster_model.pkl', 'rb'))\n",
    "test_text = \"Tesla is in Austin,Texas.Tesla CEO is Elon Musk.The logo of car manufacturer Tesla is seen recently\"\n",
    "vector = get_embeddinngs(test_text)\n",
    "print(saved_model.classify(vector))"
   ]
  },
  {
   "cell_type": "code",
   "execution_count": null,
   "metadata": {},
   "outputs": [],
   "source": []
  }
 ],
 "metadata": {
  "kernelspec": {
   "display_name": "Python 3.8.13 ('text_clustering_api')",
   "language": "python",
   "name": "python3"
  },
  "language_info": {
   "codemirror_mode": {
    "name": "ipython",
    "version": 3
   },
   "file_extension": ".py",
   "mimetype": "text/x-python",
   "name": "python",
   "nbconvert_exporter": "python",
   "pygments_lexer": "ipython3",
   "version": "3.8.13"
  },
  "orig_nbformat": 4,
  "vscode": {
   "interpreter": {
    "hash": "20d6c43c445539a7441a79a17c8aef8554a0a1a8b8781e320a712f4742fa6748"
   }
  }
 },
 "nbformat": 4,
 "nbformat_minor": 2
}
